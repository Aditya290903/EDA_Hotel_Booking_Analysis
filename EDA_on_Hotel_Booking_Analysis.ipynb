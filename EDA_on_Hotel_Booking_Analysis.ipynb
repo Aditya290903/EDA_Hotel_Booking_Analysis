{
  "cells": [
    {
      "cell_type": "markdown",
      "metadata": {
        "id": "view-in-github",
        "colab_type": "text"
      },
      "source": [
        "<a href=\"https://colab.research.google.com/github/Aditya290903/EDA_Hotel_Booking_Analysis/blob/main/EDA_on_Hotel_Booking_Analysis.ipynb\" target=\"_parent\"><img src=\"https://colab.research.google.com/assets/colab-badge.svg\" alt=\"Open In Colab\"/></a>"
      ]
    },
    {
      "cell_type": "markdown",
      "metadata": {
        "id": "vncDsAP0Gaoa"
      },
      "source": [
        "# **Project Name**    - Hotel Booking Analysis\n",
        "\n"
      ]
    },
    {
      "cell_type": "markdown",
      "metadata": {
        "id": "beRrZCGUAJYm"
      },
      "source": [
        "##### **Project Type**    - EDA\n",
        "##### **Contribution**    - Individual\n",
        "##### **Project By -** Aditya Meshram\n"
      ]
    },
    {
      "cell_type": "markdown",
      "metadata": {
        "id": "FJNUwmbgGyua"
      },
      "source": [
        "# **Project Summary -**"
      ]
    },
    {
      "cell_type": "markdown",
      "metadata": {
        "id": "F6v_1wHtG2nS"
      },
      "source": [
        "This EDA project on Hotel Booking Analysis investigates cancellations, and their underlying patterns; and suggests measures that can be implemented to reduce cancellations and secure revenue1:\n",
        "\n",
        "The project covers booking information for a city hotel and a resort hotel including information such as when the booking was made, length of stay, the number of adults, children. The project went through the basic idea of the EDA and visualization process.\n",
        "\n",
        "In this project I will do Exploratory Data Analysis on the given dataset. The project suggests measures that can be implemented to reduce cancellations and secure revenue. For example, hotels can offer discounts or promotions to customers who book early or who book for longer stays. Hotels can also offer incentives such as free parking or free breakfast to customers who book directly with them instead of through third-party websites.\n",
        "\n",
        "This EDA involves following steps where in first step involves exploration and inspection over raw data, and second in second step I have dealt with data impurities and cleaned the data by andling null values and dropping irrelevent data from the dataset.\n",
        "\n",
        "This EDA is divided into following 3 analysis: Univariate analysis: Univariate analysis is the simplest of the three analyses where the data, you are analyzing is only one variable. Bivariate analysis: Bivariate analysis is where you are comparing two variables to study their relationships. Multivariate analysis: Multivariate analysis is similar to Bivariate analysis but you are comparing more than two variables.\n",
        "\n",
        "The project concludes that by analyzing hotel bookings data and understanding cancellations patterns, hotels can take steps to reduce cancellations and increase revenue."
      ]
    },
    {
      "cell_type": "markdown",
      "metadata": {
        "id": "w6K7xa23Elo4"
      },
      "source": [
        "# **GitHub Link -**"
      ]
    },
    {
      "cell_type": "markdown",
      "metadata": {
        "id": "yQaldy8SH6Dl"
      },
      "source": [
        "# **Problem Statement**\n"
      ]
    },
    {
      "cell_type": "markdown",
      "metadata": {
        "id": "DpeJGUA3kjGy"
      },
      "source": [
        "**Have you ever wondered when the best time of year to book a hotel room is? Or the optimal length of stay in order to get the best daily rate? What if you wanted to predict whether or not a hotel was likely to receive a disproportionately high number of special requests? This hotel booking dataset can help you explore those questions!\n",
        "This data set contains booking information for a city hotel and a resort hotel, and includes information such as when the booking was made, length of stay, the number of adults, children, and/or babies, and the number of available parking spaces, among other things. All personally identifying information has been removed from the data..**"
      ]
    },
    {
      "cell_type": "markdown",
      "metadata": {
        "id": "PH-0ReGfmX4f"
      },
      "source": [
        "#### **Define Your Business Objective?**"
      ]
    },
    {
      "cell_type": "markdown",
      "metadata": {
        "id": "PhDvGCAqmjP1"
      },
      "source": [
        "The project aims to gain interesting insight into customers’ behavior when booking a hotel. The demand for different segment of customer may differ and forecasting become harder as it may requires different model for different segment.These insights can guide hotels to adjust their customer strategies and make preparation for unknown."
      ]
    },
    {
      "cell_type": "markdown",
      "metadata": {
        "id": "O_i_v8NEhb9l"
      },
      "source": [
        "# ***Let's Begin !***"
      ]
    },
    {
      "cell_type": "markdown",
      "metadata": {
        "id": "HhfV-JJviCcP"
      },
      "source": [
        "## ***1. Know Your Data***"
      ]
    },
    {
      "cell_type": "markdown",
      "metadata": {
        "id": "Y3lxredqlCYt"
      },
      "source": [
        "### Import Libraries"
      ]
    },
    {
      "cell_type": "code",
      "execution_count": null,
      "metadata": {
        "id": "M8Vqi-pPk-HR"
      },
      "outputs": [],
      "source": [
        "# Importing necessary libraries needed in EDA\n",
        "import numpy as np\n",
        "import pandas as pd\n",
        "# for visualisation\n",
        "import seaborn as sns\n",
        "import matplotlib.pyplot as plt\n",
        "%matplotlib inline\n",
        "import plotly.express as px        # will be used for plotting"
      ]
    },
    {
      "cell_type": "markdown",
      "metadata": {
        "id": "3RnN4peoiCZX"
      },
      "source": [
        "### Dataset Loading"
      ]
    },
    {
      "cell_type": "code",
      "execution_count": null,
      "metadata": {
        "id": "4CkvbW_SlZ_R"
      },
      "outputs": [],
      "source": [
        "# Load Dataset\n",
        "from google.colab import drive                #Mounting google drive\n",
        "drive.mount('/content/drive')"
      ]
    },
    {
      "cell_type": "code",
      "execution_count": null,
      "metadata": {
        "id": "OHssgGEyJxmI"
      },
      "outputs": [],
      "source": [
        "#Loading the dataset\n",
        "hb_df = pd.read_csv('/content/drive/MyDrive/Hotel Bookings.csv')"
      ]
    },
    {
      "cell_type": "code",
      "execution_count": null,
      "metadata": {
        "id": "RHcP3NJf4AB7"
      },
      "outputs": [],
      "source": [
        "hb_df.shape"
      ]
    },
    {
      "cell_type": "markdown",
      "metadata": {
        "id": "x71ZqKXriCWQ"
      },
      "source": [
        "### Dataset First View"
      ]
    },
    {
      "cell_type": "code",
      "execution_count": null,
      "metadata": {
        "id": "LWNFOSvLl09H"
      },
      "outputs": [],
      "source": [
        "# Dataset First Look\n",
        "hb_df"
      ]
    },
    {
      "cell_type": "code",
      "execution_count": null,
      "metadata": {
        "id": "T-zg3HEfKy-3"
      },
      "outputs": [],
      "source": [
        "#Looking first 5 rows of the datset\n",
        "hb_df.head()"
      ]
    },
    {
      "cell_type": "code",
      "execution_count": null,
      "metadata": {
        "id": "F1WCPPZTLAHR"
      },
      "outputs": [],
      "source": [
        "#Looking the last 5 rows of the dataset\n",
        "hb_df.tail()"
      ]
    },
    {
      "cell_type": "markdown",
      "metadata": {
        "id": "7hBIi_osiCS2"
      },
      "source": [
        "### Dataset Rows & Columns count"
      ]
    },
    {
      "cell_type": "code",
      "execution_count": null,
      "metadata": {
        "id": "Kllu7SJgmLij"
      },
      "outputs": [],
      "source": [
        "# Dataset Rows & Columns count\n",
        "print(f'Number of rows : {len(hb_df.axes[0])}')\n",
        "print(f'Number of rows : {len(hb_df.axes[1])}')"
      ]
    },
    {
      "cell_type": "markdown",
      "metadata": {
        "id": "JlHwYmJAmNHm"
      },
      "source": [
        "### Dataset Information"
      ]
    },
    {
      "cell_type": "code",
      "execution_count": null,
      "metadata": {
        "id": "e9hRXRi6meOf"
      },
      "outputs": [],
      "source": [
        "# Dataset Info\n",
        "hb_df.info()"
      ]
    },
    {
      "cell_type": "markdown",
      "metadata": {
        "id": "35m5QtbWiB9F"
      },
      "source": [
        "#### Duplicate Values"
      ]
    },
    {
      "cell_type": "code",
      "execution_count": null,
      "metadata": {
        "id": "1sLdpKYkmox0"
      },
      "outputs": [],
      "source": [
        "# Dataset Duplicate Value Count\n",
        "hb_df.duplicated().sum()"
      ]
    },
    {
      "cell_type": "markdown",
      "metadata": {
        "id": "5XqYNHDlPQ93"
      },
      "source": [
        "There are 31994 duplicate values in the dataset"
      ]
    },
    {
      "cell_type": "code",
      "execution_count": null,
      "metadata": {
        "id": "e-ncWvqxQeh9"
      },
      "outputs": [],
      "source": [
        "#Dropping the duplicate values\n",
        "hb_df.drop_duplicates(inplace = True)"
      ]
    },
    {
      "cell_type": "code",
      "execution_count": null,
      "metadata": {
        "id": "CAHWH5paRGTL"
      },
      "outputs": [],
      "source": [
        "hb_df.shape"
      ]
    },
    {
      "cell_type": "markdown",
      "metadata": {
        "id": "PoPl-ycgm1ru"
      },
      "source": [
        "#### Missing Values/Null Values"
      ]
    },
    {
      "cell_type": "code",
      "execution_count": null,
      "metadata": {
        "id": "GgHWkxvamxVg"
      },
      "outputs": [],
      "source": [
        "# Missing Values/Null Values Count\n",
        "hb_df.isnull().sum()"
      ]
    },
    {
      "cell_type": "code",
      "execution_count": null,
      "metadata": {
        "id": "3q5wnI3om9sJ"
      },
      "outputs": [],
      "source": [
        "# Visualizing the missing values using Seaborn heatmap\n",
        "\n",
        "plt.figure(figsize=(20,8))\n",
        "sns.heatmap(hb_df.isna().transpose(),\n",
        "            cmap=\"YlGnBu\",\n",
        "            cbar_kws={'label': 'Missing Data'})\n",
        "\n",
        "plt.title('Missing Values', fontsize=18)\n",
        "plt.show()"
      ]
    },
    {
      "cell_type": "markdown",
      "metadata": {
        "id": "H0kj-8xxnORC"
      },
      "source": [
        "### What did you know about your dataset?"
      ]
    },
    {
      "cell_type": "markdown",
      "metadata": {
        "id": "gfoNAAC-nUe_"
      },
      "source": [
        "We can see that there are total four columns with missing/null values : company, agent, country, children.\n",
        "\n",
        "1. In children column, I will replace null values with 0 assuming that customer did not have any children.\n",
        "2. Column country has null values. I will reolace null values in this column with 'Others' assuming customer's country was not mentioned while booking.\n",
        "3. In company and agent column it might be a case when customers did not book hotel through them so these columns might have null values in it. As these 2 columns have numeric data in it, I will replace them with 0.\n"
      ]
    },
    {
      "cell_type": "markdown",
      "metadata": {
        "id": "nA9Y7ga8ng1Z"
      },
      "source": [
        "## ***2. Understanding Your Variables***"
      ]
    },
    {
      "cell_type": "code",
      "execution_count": null,
      "metadata": {
        "id": "j7xfkqrt5Ag5"
      },
      "outputs": [],
      "source": [
        "# Dataset Columns\n",
        "hb_df.columns"
      ]
    },
    {
      "cell_type": "code",
      "execution_count": null,
      "metadata": {
        "id": "DnOaZdaE5Q5t"
      },
      "outputs": [],
      "source": [
        "# Dataset Describe\n",
        "hb_df.describe()"
      ]
    },
    {
      "cell_type": "markdown",
      "metadata": {
        "id": "PBTbrJXOngz2"
      },
      "source": [
        "### Variables Description"
      ]
    },
    {
      "cell_type": "markdown",
      "metadata": {
        "id": "aJV4KIxSnxay"
      },
      "source": [
        "**Hotel :** (Resort Hotel or City Hotel)\n",
        "\n",
        "**is_canceled**: Value indicating if the booking was canceled (1) or not (0)\n",
        "\n",
        "**lead_time :** * Number of days that elapsed between the entering date of the booking into the PMS and the arrival date*\n",
        "\n",
        "**arrival_date_year :** Year of arrival date\n",
        "\n",
        "**arrival_date_month :** Month of arrival date\n",
        "\n",
        "**arrival_date_week_number :** Week number of year for arrival date\n",
        "\n",
        "**arrival_date_day_of_month :** Day of arrival date\n",
        "\n",
        "**stays_in_weekend_nights :** Number of weekend nights (Saturday or Sunday) the guest stayed or booked to stay at the hotel\n",
        "\n",
        "**stays_in_week_nights :** Number of week nights (Monday to Friday) the guest stayed or booked to stay at the hotel\n",
        "\n",
        "**adults :** Number of adults\n",
        "\n",
        "**children :** Number of children\n",
        "\n",
        "**babies :** Number of babies\n",
        "\n",
        "**meal :** Type of meal booked. Categories are presented in standard hospitality meal packages\n",
        "\n",
        "**country :** Country of origin.` market_segment : Market segment designation. In categories, the term “TA” means “Travel Agents” and “TO” means “Tour Operators”\n",
        "\n",
        "**distribution_channel :** Booking distribution channel. The term “TA” means “Travel Agents” and “TO” means “Tour Operators”\n",
        "\n",
        "**is_repeated_guest :** Value indicating if the booking name was from a repeated guest (1) or not (0)\n",
        "\n",
        "**previous_cancellations :** Number of previous bookings that were cancelled by the customer prior to the current booking\n",
        "\n",
        "**previous_bookings_not_canceled :** Number of previous bookings not cancelled by the customer prior to the current booking\n",
        "\n",
        "**reserved_room_type :** Code of room type reserved. Code is presented instead of designation for anonymity reasons.\n",
        "\n",
        "**assigned_room_type :** Code for the type of room assigned to the booking.\n",
        "\n",
        "**booking_changes :** Number of changes/amendments made to the booking from the moment the booking was entered on the PMS until the moment of check-in or cancellation\n",
        "\n",
        "**deposit_type :** Indication on if the customer made a deposit to guarantee the booking.\n",
        "\n",
        "**agent :** ID of the travel agency that made the booking\n",
        "\n",
        "**company :** ID of the company/entity that made the booking or responsible for paying the booking.\n",
        "\n",
        "**days_in_waiting_list :** Number of days the booking was in the waiting list before it was confirmed to the customer\n",
        "\n",
        "**customer_type :** Type of booking, assuming one of four categories\n",
        "\n",
        "**adr :** Average Daily Rate as defined by dividing the sum of all lodging transactions by the total number of staying nights\n",
        "\n",
        "**required_car_parking_spaces :** Number of car parking spaces required by the customer\n",
        "\n",
        "**total_of_special_requests :** Number of special requests made by the customer (e.g. twin bed or high floor)\n",
        "\n",
        "**reservation_status :** Reservation last status, assuming one of three categories\n",
        "\n",
        "**Canceled –** booking was canceled by the customer\n",
        "**Check-Out –** customer has checked in but already departed\n",
        "**No-Show –** customer did not check-in and did inform the hotel of the reason why\n",
        "**reservation_status_date -** Date at which the last status was set"
      ]
    },
    {
      "cell_type": "markdown",
      "metadata": {
        "id": "u3PMJOP6ngxN"
      },
      "source": [
        "### Check Unique Values for each variable."
      ]
    },
    {
      "cell_type": "code",
      "execution_count": null,
      "metadata": {
        "id": "E-jxksuohBH7"
      },
      "outputs": [],
      "source": [
        "# Check Unique Values for each variable.\n",
        "pd.Series({col:hb_df[col].unique() for col in hb_df})           # creating a series consisting every column name of the dataset and it's value.\n",
        "                                                                # used for loop to iterate over every column in the dataset"
      ]
    },
    {
      "cell_type": "markdown",
      "metadata": {
        "id": "dauF4eBmngu3"
      },
      "source": [
        "## 3. ***Data Wrangling***"
      ]
    },
    {
      "cell_type": "markdown",
      "metadata": {
        "id": "bKJF3rekwFvQ"
      },
      "source": [
        "### Data Wrangling Code"
      ]
    },
    {
      "cell_type": "code",
      "execution_count": null,
      "metadata": {
        "id": "wk-9a2fpoLcV"
      },
      "outputs": [],
      "source": [
        "# creating a duplicate of the original dataset before making any changes in it\n",
        "hb_df1 = hb_df.copy()"
      ]
    },
    {
      "cell_type": "code",
      "execution_count": null,
      "metadata": {
        "id": "wdfXzi4v9xyl"
      },
      "outputs": [],
      "source": [
        "hb_df1.columns"
      ]
    },
    {
      "cell_type": "code",
      "execution_count": null,
      "metadata": {
        "id": "sjPoNYDi1Fa0"
      },
      "outputs": [],
      "source": [
        "# replacing null values in children column with 0 assuming that family had 0 children\n",
        "# replacing null values in company and agent columns with 0 assuming those rooms were booked without company/agent\n",
        "\n",
        "hb_df1['children' ].fillna(0, inplace = True)\n",
        "hb_df1['company' ].fillna(0, inplace = True)\n",
        "hb_df1['agent' ].fillna(0, inplace = True)\n",
        "\n",
        "# replacing null values in country column as 'Others'\n",
        "\n",
        "hb_df1['country'].fillna('Others', inplace = True)"
      ]
    },
    {
      "cell_type": "code",
      "execution_count": null,
      "metadata": {
        "id": "T5Ku53uy1FZW"
      },
      "outputs": [],
      "source": [
        "# checking for null values after replacing them\n",
        "hb_df1.isnull().sum()"
      ]
    },
    {
      "cell_type": "code",
      "execution_count": null,
      "metadata": {
        "id": "wDCjNnYz1FUs"
      },
      "outputs": [],
      "source": [
        "# dropping the 'company' column as it contains a lot of null values in coparison to other columns\n",
        "hb_df1.drop(['company'], axis =1 , inplace = True)        # dropping the values vertically at axis 1 (columns)"
      ]
    },
    {
      "cell_type": "code",
      "execution_count": null,
      "metadata": {
        "id": "8FLpyjZPAV7q"
      },
      "outputs": [],
      "source": [
        "# dropping rows where no adults , children and babies are available because no bookings were made that day\n",
        "\n",
        "no_guest=hb_df1[hb_df1['adults']+hb_df1['babies']+hb_df1['children']==0]\n",
        "hb_df1.drop(no_guest.index, inplace=True)"
      ]
    },
    {
      "cell_type": "code",
      "execution_count": null,
      "metadata": {
        "id": "0uiiizM-CTxm"
      },
      "outputs": [],
      "source": [
        "# adding some new columns to make our data analysis ready\n",
        "hb_df1['total_people'] = hb_df1['adults'] + hb_df1['babies'] + hb_df1['children']       # creating total people column by adding all the people in that booking\n",
        "\n",
        "hb_df1['total_stay'] = hb_df1['stays_in_weekend_nights'] + hb_df1['stays_in_week_nights']    # creating a column to check total stay by prople in that booking"
      ]
    },
    {
      "cell_type": "code",
      "execution_count": null,
      "metadata": {
        "id": "q6mjVD6LFD1m"
      },
      "outputs": [],
      "source": [
        "# having a final look to check if our dataset is ready to analyse\n",
        "hb_df1.head()\n"
      ]
    },
    {
      "cell_type": "code",
      "execution_count": null,
      "metadata": {
        "id": "SeQEG_-WHM67"
      },
      "outputs": [],
      "source": [
        "hb_df1.tail()"
      ]
    },
    {
      "cell_type": "code",
      "execution_count": null,
      "metadata": {
        "id": "wA7RwhBgGa3W"
      },
      "outputs": [],
      "source": [
        "# checking the final shape of the dataset\n",
        "print(f' final shape of the dataset is {hb_df1.shape}')"
      ]
    },
    {
      "cell_type": "code",
      "execution_count": null,
      "metadata": {
        "id": "LFesiW8KHgBv"
      },
      "outputs": [],
      "source": [
        "# checking the unique values which is to be analysed\n",
        "pd.Series({col:hb_df1[col].unique() for col in hb_df1})"
      ]
    },
    {
      "cell_type": "markdown",
      "metadata": {
        "id": "H4h-U-oSGdwT"
      },
      "source": [
        "We can see that we have dealt with all the null values and added some new columns and now our dataset is ready to analysed."
      ]
    },
    {
      "cell_type": "markdown",
      "metadata": {
        "id": "MSa1f5Uengrz"
      },
      "source": [
        "### What all manipulations have you done and insights you found?"
      ]
    },
    {
      "cell_type": "markdown",
      "metadata": {
        "id": "LbyXE7I1olp8"
      },
      "source": [
        "Created a copy of the dataset before doing any manipulation then filled missing values with 0 in children , company and agent columns as those columns had numerical values and in column country filled missing values with 'others'.\n",
        "after dealing with missing values I dropped the country column as this had 96% missing values and was of no  use in our analysis.\n",
        "In next step I created 2 new columns named 'total_people' and 'total_stay' for further analysis. In total people column I added all the babies, children and adults. similarly in second new column I added weekend stay and week stay column.\n",
        "\n",
        "After doing all the manipulation I checked new manipulated dataset to check if this is ready to be analyzed.\n",
        "\n",
        "After **manipulating** the dataset these were the **insights I found**:\n",
        "\n",
        "**1.** There are 2 types of hotel which guests could book so I\n",
        "   can find which type of hotel was booked most.\n",
        "\n",
        "**2.** There are different types of guests and they come from\n",
        "    different countries.\n",
        "\n",
        "**3.** Guests can choose different foods from the menu.\n",
        "\n",
        "**4.** Guests can book hotel directly or through different\n",
        "    channels that are available.\n",
        "\n",
        "**5.** Guests can cancel their booking and there are\n",
        "    repeated guests also.\n",
        "\n",
        "**6.** Guests can choose rooms of their liking while booking.\n",
        "\n",
        "**7.** There is column available in the dataset named 'adr' which\n",
        "   could be used to analyze hotel's performance on the basis\n",
        "   of revenue."
      ]
    },
    {
      "cell_type": "markdown",
      "metadata": {
        "id": "GF8Ens_Soomf"
      },
      "source": [
        "## ***4. Data Vizualization, Storytelling & Experimenting with charts : Understand the relationships between variables***"
      ]
    },
    {
      "cell_type": "markdown",
      "metadata": {
        "id": "0wOQAZs5pc--"
      },
      "source": [
        "#### Chart - 1\n",
        "# ***Which type of hotel is most preffered by the guests?***"
      ]
    },
    {
      "cell_type": "code",
      "execution_count": null,
      "metadata": {
        "id": "gX1FeQPIIEcs"
      },
      "outputs": [],
      "source": [
        "# Chart - 1 visualization code\n",
        "# Storing unique hotel names in a variable\n",
        "hotel_name = hb_df1['hotel'].unique()\n",
        "\n",
        "# Checking the number of unique booking in each hotel type\n",
        "unique_booking = hb_df1.hotel.value_counts().sort_values(ascending=True)\n",
        "\n",
        "# Creating a donut chart using plotly.express\n",
        "fig1 = px.pie(names = hotel_name, values = unique_booking, hole = 0.5, color = hotel_name,\n",
        "              color_discrete_map={\n",
        "                  'Resort Hotel': 'teal' , 'City Hotel' : 'nude'})\n",
        "\n",
        "# Giving it a title and updating the text info\n",
        "fig1.update_traces(textinfo = 'percent + value')\n",
        "fig1.update_layout(title_text = 'Hotel Booking Percentage', title_x = 0.5)\n",
        "\n",
        "# Setting the legend at center\n",
        "fig1.update_layout(legend=dict(\n",
        "    orientation = 'h',\n",
        "    yanchor = 'bottom',\n",
        "    xanchor = 'center',\n",
        "    x = 0.5\n",
        "))\n",
        "\n",
        "# Display the figure\n",
        "fig1.show()"
      ]
    },
    {
      "cell_type": "markdown",
      "metadata": {
        "id": "U6cl8wtBXhj9"
      },
      "source": [
        "# Creating a Pie chart also for the above problem statement as Donut chart is not exported to github."
      ]
    },
    {
      "cell_type": "code",
      "execution_count": null,
      "metadata": {
        "id": "V_o0I8bEXfXt"
      },
      "outputs": [],
      "source": [
        "# Count Hotel\n",
        "hotel_count = hb_df1.hotel.value_counts()\n",
        "\n",
        "# Plotting Values in a simple pie chart\n",
        "hotel_count.plot.pie(figsize=(9,7), autopct='%1.2f%%', shadow=True, fontsize=15,startangle=50)\n",
        "# Setting the title\n",
        "plt.title('Hotel Booking Percentage')\n",
        "plt.axis('equal')\n",
        "plt.show()"
      ]
    },
    {
      "cell_type": "markdown",
      "metadata": {
        "id": "K5QZ13OEpz2H"
      },
      "source": [
        "##### 1. Why did you pick the specific chart?"
      ]
    },
    {
      "cell_type": "markdown",
      "metadata": {
        "id": "XESiWehPqBRc"
      },
      "source": [
        "I used Donut chart here because it is used to show the proportions of categorical data, with the size of each piece representing the proportion of each category."
      ]
    },
    {
      "cell_type": "markdown",
      "metadata": {
        "id": "lQ7QKXXCp7Bj"
      },
      "source": [
        "##### 2. What is/are the insight(s) found from the chart?"
      ]
    },
    {
      "cell_type": "markdown",
      "metadata": {
        "id": "C_j1G7yiqdRP"
      },
      "source": [
        "I found out that guests prefer Resort Hotel most over City Hotel."
      ]
    },
    {
      "cell_type": "markdown",
      "metadata": {
        "id": "448CDAPjqfQr"
      },
      "source": [
        "##### 3. Will the gained insights help creating a positive business impact?\n",
        "Are there any insights that lead to negative growth? Justify with specific reason."
      ]
    },
    {
      "cell_type": "markdown",
      "metadata": {
        "id": "3cspy4FjqxJW"
      },
      "source": [
        "This insight is useful for the stakeholder to check which hotel is performing best and they can invest more capitals in that.\n",
        "There is no such negative growth but stakeholders can focus more on City Hotel to get more booking and icrease the overall revenue."
      ]
    },
    {
      "cell_type": "markdown",
      "metadata": {
        "id": "KSlN3yHqYklG"
      },
      "source": [
        "#### Chart - 2\n",
        "# ***What is perecentage of hotel booking cancellation?***"
      ]
    },
    {
      "cell_type": "code",
      "execution_count": null,
      "metadata": {
        "id": "R4YgtaqtYklH"
      },
      "outputs": [],
      "source": [
        "# Chart - 2 visualization code\n",
        "# Extracting and storing unique values of hotel cancelation\n",
        "cancelled_hotel = hb_df1.is_canceled.value_counts()\n",
        "\n",
        "# Craeting a pie chart\n",
        "cancelled_hotel.plot.pie(figsize=(9,7), explode=(0.05,0.05), autopct='%1.2f%%', shadow=True, fontsize=15,startangle=50)\n",
        "\n",
        "# Giving our pie chart a title\n",
        "plt.title('Percentage of Hotel Cancellation and Non Cancellation')\n",
        "plt.axis('equal')\n",
        "plt.show()"
      ]
    },
    {
      "cell_type": "markdown",
      "metadata": {
        "id": "t6dVpIINYklI"
      },
      "source": [
        "##### 1. Why did you pick the specific chart?"
      ]
    },
    {
      "cell_type": "markdown",
      "metadata": {
        "id": "5aaW0BYyYklI"
      },
      "source": [
        "I had to show a part-to-a-whole relationship and percentage of both the values and here pie chart was a good option to show segmented values."
      ]
    },
    {
      "cell_type": "markdown",
      "metadata": {
        "id": "ijmpgYnKYklI"
      },
      "source": [
        "##### 2. What is/are the insight(s) found from the chart?"
      ]
    },
    {
      "cell_type": "markdown",
      "metadata": {
        "id": "PSx9atu2YklI"
      },
      "source": [
        "Here we can see that around 72.48% bookins are not canceled by guests but around 27.52% bookings are canceled by guests."
      ]
    },
    {
      "cell_type": "markdown",
      "metadata": {
        "id": "-JiQyfWJYklI"
      },
      "source": [
        "##### 3. Will the gained insights help creating a positive business impact?\n",
        "Are there any insights that lead to negative growth? Justify with specific reason."
      ]
    },
    {
      "cell_type": "markdown",
      "metadata": {
        "id": "BcBbebzrYklV"
      },
      "source": [
        "This insight will help stakeholders in comparing the cancellation and non cancellation of bookings. With the help of this insight stakeholders can offer rescheduling the bookings instead of cancellation and set a flexible cancellation policy to reduce booking cancellation."
      ]
    },
    {
      "cell_type": "markdown",
      "metadata": {
        "id": "EM7whBJCYoAo"
      },
      "source": [
        "#### Chart - 3\n",
        "# ***Which type of meal is most preffered by guests?***"
      ]
    },
    {
      "cell_type": "code",
      "execution_count": null,
      "metadata": {
        "id": "t6GMdE67YoAp"
      },
      "outputs": [],
      "source": [
        "# Chart - 3 visualization code\n",
        "\n",
        "# Counting each meal type\n",
        "meal_count = hb_df1.meal.value_counts()\n",
        "\n",
        "# Extracting each meal type and storing in a variable\n",
        "meal_name = hb_df1['meal'].unique()\n",
        "\n",
        "# Creating a dataset of each meal type and count\n",
        "meal_df = pd.DataFrame(zip(meal_name,meal_count), columns = ['meal name', 'meal count'])\n",
        "\n",
        "# Visualising the values on a bar chart\n",
        "plt.figure(figsize=(15,5))\n",
        "g = sns.barplot(data=meal_df, x='meal name', y ='meal count')\n",
        "g.set_xticklabels(meal_df['meal name'])\n",
        "plt.title('Most preffered meal type', fontsize=25)\n",
        "plt.show()"
      ]
    },
    {
      "cell_type": "markdown",
      "metadata": {
        "id": "N3T7ZeDqghcn"
      },
      "source": [
        "**Meal type variable description:**\n",
        "\n",
        "**BB** - (Bed and Breakfast)\n",
        "\n",
        "**HB**- (Half Board)\n",
        "\n",
        "**FB**- (Full Board)\n",
        "\n",
        "**SC**- (Self Catering)"
      ]
    },
    {
      "cell_type": "markdown",
      "metadata": {
        "id": "fge-S5ZAYoAp"
      },
      "source": [
        "##### 1. Why did you pick the specific chart?"
      ]
    },
    {
      "cell_type": "markdown",
      "metadata": {
        "id": "5dBItgRVYoAp"
      },
      "source": [
        "There were 4 values to compare and Bar graphs are used to compare things between different groups that is why I used this chart."
      ]
    },
    {
      "cell_type": "markdown",
      "metadata": {
        "id": "85gYPyotYoAp"
      },
      "source": [
        "##### 2. What is/are the insight(s) found from the chart?"
      ]
    },
    {
      "cell_type": "markdown",
      "metadata": {
        "id": "4jstXR6OYoAp"
      },
      "source": [
        "After visualizing the above chart we can see that BB - (Bed and Breakfast) is the most preffered meal type by guests."
      ]
    },
    {
      "cell_type": "markdown",
      "metadata": {
        "id": "RoGjAbkUYoAp"
      },
      "source": [
        "##### 3. Will the gained insights help creating a positive business impact?\n",
        "Are there any insights that lead to negative growth? Justify with specific reason."
      ]
    },
    {
      "cell_type": "markdown",
      "metadata": {
        "id": "zfJ8IqMcYoAp"
      },
      "source": [
        "Yes, from the gained insight above now stakeholders know that  **BB(Bed and Breakfast)** is most preferred meal type so they can arrange raw material for this meal in advance and deliver the meal without any delay."
      ]
    },
    {
      "cell_type": "markdown",
      "metadata": {
        "id": "4Of9eVA-YrdM"
      },
      "source": [
        "#### Chart - 4\n",
        "# **Which year has the most bookings ?**"
      ]
    },
    {
      "cell_type": "code",
      "execution_count": null,
      "metadata": {
        "id": "NuIvumjeelgu"
      },
      "outputs": [],
      "source": [
        "# Chart - 4 visualization code\n",
        "# Plotting with countplot\n",
        "plt.figure(figsize=(10,4))\n",
        "sns.countplot(x=hb_df1['arrival_date_year'],hue=hb_df1['hotel'])\n",
        "plt.title(\"Number of bookings across year\", fontsize = 25)\n",
        "plt.show()"
      ]
    },
    {
      "cell_type": "markdown",
      "metadata": {
        "id": "iky9q4vBYrdO"
      },
      "source": [
        "##### 1. Why did you pick the specific chart?"
      ]
    },
    {
      "cell_type": "markdown",
      "metadata": {
        "id": "aJRCwT6DYrdO"
      },
      "source": [
        "Bar graphs are used to compare things between different groups that is why I used this chart."
      ]
    },
    {
      "cell_type": "markdown",
      "metadata": {
        "id": "F6T5p64dYrdO"
      },
      "source": [
        "##### 2. What is/are the insight(s) found from the chart?"
      ]
    },
    {
      "cell_type": "markdown",
      "metadata": {
        "id": "Xx8WAJvtYrdO"
      },
      "source": [
        "From above insight I found out that hotel was booked most times in year 2016."
      ]
    },
    {
      "cell_type": "markdown",
      "metadata": {
        "id": "y-Ehk30pYrdP"
      },
      "source": [
        "##### 3. Will the gained insights help creating a positive business impact?\n",
        "Are there any insights that lead to negative growth? Justify with specific reason."
      ]
    },
    {
      "cell_type": "markdown",
      "metadata": {
        "id": "jLNxxz7MYrdP"
      },
      "source": [
        "Above insight shows that number of booking was declined after year 2016.\n",
        "Stakeholders can now what went wrong after 2016 and fix that problem to increase the umber of bookings. One way to do this is ask for feedbacks from guests and have a meeting with old employees who else were serving int the year 2016."
      ]
    },
    {
      "cell_type": "markdown",
      "metadata": {
        "id": "bamQiAODYuh1"
      },
      "source": [
        "#### Chart - 5\n",
        "# **Which month has the most bookings in each hotel type?**"
      ]
    },
    {
      "cell_type": "code",
      "execution_count": null,
      "metadata": {
        "id": "TIJwrbroYuh3"
      },
      "outputs": [],
      "source": [
        "# Chart - 5 visualization code\n",
        "plt.figure(figsize=(15,5))\n",
        "sns.countplot(x=hb_df1['arrival_date_month'],hue=hb_df1['hotel'])\n",
        "plt.title(\"Number of booking across months\", fontsize = 25)\n",
        "plt.show()"
      ]
    },
    {
      "cell_type": "markdown",
      "metadata": {
        "id": "QHF8YVU7Yuh3"
      },
      "source": [
        "##### 1. Why did you pick the specific chart?"
      ]
    },
    {
      "cell_type": "markdown",
      "metadata": {
        "id": "dcxuIMRPYuh3"
      },
      "source": [
        "I had to compare values across the months and for that bar chart was one of the best choice."
      ]
    },
    {
      "cell_type": "markdown",
      "metadata": {
        "id": "GwzvFGzlYuh3"
      },
      "source": [
        "##### 2. What is/are the insight(s) found from the chart?"
      ]
    },
    {
      "cell_type": "markdown",
      "metadata": {
        "id": "uyqkiB8YYuh3"
      },
      "source": [
        "Above insight shows that August and July ware 2 most busy months in compare to others."
      ]
    },
    {
      "cell_type": "markdown",
      "metadata": {
        "id": "qYpmQ266Yuh3"
      },
      "source": [
        "##### 3. Will the gained insights help creating a positive business impact?\n",
        "Are there any insights that lead to negative growth? Justify with specific reason."
      ]
    },
    {
      "cell_type": "markdown",
      "metadata": {
        "id": "_WtzZ_hCYuh4"
      },
      "source": [
        "There is negative insight but hotel can use this insight to arrange everything in advance and welcome their guest in the best way possible and hotel can also run some promotional offer in these 2 months to attract more guests."
      ]
    },
    {
      "cell_type": "markdown",
      "metadata": {
        "id": "OH-pJp9IphqM"
      },
      "source": [
        "#### Chart - 6\n",
        "# **From which country most guests come?**"
      ]
    },
    {
      "cell_type": "code",
      "execution_count": null,
      "metadata": {
        "id": "2Zxu8xK8capc"
      },
      "outputs": [],
      "source": [
        "# Chart - 6 visualization code\n",
        "# Coounting number of guests from various countries and changing column names\n",
        "# Counting the number of guests from various countries\n",
        "country_df = hb_df1['country'].value_counts().reset_index()\n",
        "\n",
        "# Renaming the columns\n",
        "country_df.columns = ['country', 'guests_count']\n",
        "\n",
        "# Selecting the top 10 countries\n",
        "top_10_countries = country_df.nlargest(10, 'guests_count')\n",
        "\n",
        "# Visualizing the values on a bar chart\n",
        "# Setting the graph size\n",
        "plt.figure(figsize=(15,4))\n",
        "sns.barplot(x='country', y='guests_count', data=top_10_countries)\n",
        "plt.title('Top 10 countries with the most guests', fontsize=20)\n",
        "plt.show()"
      ]
    },
    {
      "cell_type": "markdown",
      "metadata": {
        "id": "bbFf2-_FphqN"
      },
      "source": [
        "##### 1. Why did you pick the specific chart?"
      ]
    },
    {
      "cell_type": "markdown",
      "metadata": {
        "id": "loh7H2nzphqN"
      },
      "source": [
        "Here I comapred different values that's why I used bar chart."
      ]
    },
    {
      "cell_type": "markdown",
      "metadata": {
        "id": "_ouA3fa0phqN"
      },
      "source": [
        "##### 2. What is/are the insight(s) found from the chart?"
      ]
    },
    {
      "cell_type": "markdown",
      "metadata": {
        "id": "VECbqPI7phqN"
      },
      "source": [
        "From the above chart I found out that most guests come from PRT(Portugal)."
      ]
    },
    {
      "cell_type": "markdown",
      "metadata": {
        "id": "Seke61FWphqN"
      },
      "source": [
        "##### 3. Will the gained insights help creating a positive business impact?\n",
        "Are there any insights that lead to negative growth? Justify with specific reason."
      ]
    },
    {
      "cell_type": "markdown",
      "metadata": {
        "id": "DW4_bGpfphqN"
      },
      "source": [
        "There is no negative insight.\n",
        "After knowing that most of the guests come from Portugal Hotels can add more Portugal cousines in their menu to make guests order more food."
      ]
    },
    {
      "cell_type": "markdown",
      "metadata": {
        "id": "PIIx-8_IphqN"
      },
      "source": [
        "#### Chart - 7\n",
        "# **Which distribution channel is most used in booking?**"
      ]
    },
    {
      "cell_type": "code",
      "execution_count": null,
      "metadata": {
        "id": "GxVMJEpTfUWC"
      },
      "outputs": [],
      "source": [
        "# Visualization code\n",
        "\n",
        "# Calculate the distribution of channels\n",
        "channel_counts = hb_df1['distribution_channel'].value_counts()\n",
        "\n",
        "# Calculate the percentage of each channel\n",
        "channel_percentages = (channel_counts / channel_counts.sum()) * 100\n",
        "\n",
        "# Create a pie chart\n",
        "plt.figure(figsize=(15, 6))\n",
        "plt.pie(channel_percentages, labels=channel_counts.index, autopct='%1.1f%%', startangle=50, explode=[0.05]*len(channel_counts))\n",
        "\n",
        "# Set the chart title\n",
        "plt.title('Most Used Booking Distribution Channels by Guests', fontsize=16)\n",
        "\n",
        "# Show the chart\n",
        "plt.axis('equal')\n",
        "plt.show()"
      ]
    },
    {
      "cell_type": "markdown",
      "metadata": {
        "id": "t27r6nlMphqO"
      },
      "source": [
        "##### 1. Why did you pick the specific chart?"
      ]
    },
    {
      "cell_type": "markdown",
      "metadata": {
        "id": "iv6ro40sphqO"
      },
      "source": [
        "Pie chart is one of the best chart to visualize categoriacal data."
      ]
    },
    {
      "cell_type": "markdown",
      "metadata": {
        "id": "r2jJGEOYphqO"
      },
      "source": [
        "##### 2. What is/are the insight(s) found from the chart?"
      ]
    },
    {
      "cell_type": "markdown",
      "metadata": {
        "id": "Po6ZPi4hphqO"
      },
      "source": [
        "From the above insight it is clear that TA/TO (travel agents/Tour operators) is most used distribution channel by guests."
      ]
    },
    {
      "cell_type": "markdown",
      "metadata": {
        "id": "b0JNsNcRphqO"
      },
      "source": [
        "##### 3. Will the gained insights help creating a positive business impact?\n",
        "Are there any insights that lead to negative growth? Justify with specific reason."
      ]
    },
    {
      "cell_type": "markdown",
      "metadata": {
        "id": "xvSq8iUTphqO"
      },
      "source": [
        "There is no negative insight. Hotels can run promotional offers to motivate other channels to contribute more in bookings."
      ]
    },
    {
      "cell_type": "markdown",
      "metadata": {
        "id": "BZR9WyysphqO"
      },
      "source": [
        "#### Chart - 8\n",
        "# **Which room type is most preffered by guests?**"
      ]
    },
    {
      "cell_type": "code",
      "execution_count": null,
      "metadata": {
        "id": "TdPTWpAVphqO"
      },
      "outputs": [],
      "source": [
        "# Chart - 8 visualization code\n",
        "# Setting the figure size\n",
        "plt.figure(figsize=(15,5))\n",
        "\n",
        "# Plotting the values in chart\n",
        "sns.countplot(x=hb_df1['reserved_room_type'],order=hb_df1['reserved_room_type'].value_counts().index)\n",
        "\n",
        "# Setting the title\n",
        "plt.title('Preffered Room Type by Guests', fontsize = 20)\n",
        "\n",
        "# Show the chart\n",
        "plt.show()"
      ]
    },
    {
      "cell_type": "markdown",
      "metadata": {
        "id": "jj7wYXLtphqO"
      },
      "source": [
        "##### 1. Why did you pick the specific chart?"
      ]
    },
    {
      "cell_type": "markdown",
      "metadata": {
        "id": "Ob8u6rCTphqO"
      },
      "source": [
        "A bar plot shows catergorical data as rectangular bars with the height of bars proportional to the value they represent. It is often used to compare between values of different categories in the data.\n",
        "\n",
        "---\n",
        "\n"
      ]
    },
    {
      "cell_type": "markdown",
      "metadata": {
        "id": "eZrbJ2SmphqO"
      },
      "source": [
        "##### 2. What is/are the insight(s) found from the chart?"
      ]
    },
    {
      "cell_type": "markdown",
      "metadata": {
        "id": "mZtgC_hjphqO"
      },
      "source": [
        "By observing the above chart we can understand that the room type A most preffered ( almost 55,000) by the guests while booking the hotel."
      ]
    },
    {
      "cell_type": "markdown",
      "metadata": {
        "id": "rFu4xreNphqO"
      },
      "source": [
        "##### 3. Will the gained insights help creating a positive business impact?\n",
        "Are there any insights that lead to negative growth? Justify with specific reason."
      ]
    },
    {
      "cell_type": "markdown",
      "metadata": {
        "id": "ey_0qi68phqO"
      },
      "source": [
        "As it is clear that room type A is most used hotel should increase the number of A type room to maximize the revenue."
      ]
    },
    {
      "cell_type": "markdown",
      "metadata": {
        "id": "YJ55k-q6phqO"
      },
      "source": [
        "#### Chart - 9\n",
        "# ***Which room type is most assigned?***"
      ]
    },
    {
      "cell_type": "code",
      "execution_count": null,
      "metadata": {
        "id": "B2aS4O1ophqO"
      },
      "outputs": [],
      "source": [
        "# Chart - 9 visualization code\n",
        "# Setting the figure size\n",
        "plt.figure(figsize=(15,5))\n",
        "\n",
        "# Plotting the values\n",
        "sns.countplot(x=hb_df1['assigned_room_type'], order = hb_df1['assigned_room_type'].value_counts().index)\n",
        "\n",
        "# Setting the title\n",
        "plt.title('Assigned Room Type to Guests', fontsize = 20)\n",
        "\n",
        "# show the chart\n",
        "plt.show()"
      ]
    },
    {
      "cell_type": "markdown",
      "metadata": {
        "id": "gCFgpxoyphqP"
      },
      "source": [
        "##### 1. Why did you pick the specific chart?"
      ]
    },
    {
      "cell_type": "markdown",
      "metadata": {
        "id": "TVxDimi2phqP"
      },
      "source": [
        "A bar plot shows catergorical data as rectangular bars with the height of bars proportional to the value they represent."
      ]
    },
    {
      "cell_type": "markdown",
      "metadata": {
        "id": "OVtJsKN_phqQ"
      },
      "source": [
        "##### 2. What is/are the insight(s) found from the chart?"
      ]
    },
    {
      "cell_type": "markdown",
      "metadata": {
        "id": "ngGi97qjphqQ"
      },
      "source": [
        "From the above chart it is clear that room type A is most assigned to guests."
      ]
    },
    {
      "cell_type": "markdown",
      "metadata": {
        "id": "lssrdh5qphqQ"
      },
      "source": [
        "##### 3. Will the gained insights help creating a positive business impact?\n",
        "Are there any insights that lead to negative growth? Justify with specific reason."
      ]
    },
    {
      "cell_type": "markdown",
      "metadata": {
        "id": "tBpY5ekJphqQ"
      },
      "source": [
        "In the 8th chart we saw that around 55,000 guests preffered room type A but 45,000 people were assigned A type room. This could be a reason to cancel the bookings. Hotel could increase A type room to decrease cancellation."
      ]
    },
    {
      "cell_type": "markdown",
      "metadata": {
        "id": "U2RJ9gkRphqQ"
      },
      "source": [
        "#### Chart - 10\n",
        "# ***Top 5 agents in terms of most bookings?***"
      ]
    },
    {
      "cell_type": "code",
      "execution_count": null,
      "metadata": {
        "id": "GM7a4YP4phqQ"
      },
      "outputs": [],
      "source": [
        "# Chart - 10 visualization code\n",
        "# Creating a dataset by grouping by agent column and it's count\n",
        "agents = hb_df1.groupby(['agent'])['agent'].agg({'count'}).reset_index().rename(columns={'count':'Booking Count'}\n",
        "                                                                                ).sort_values(by = 'Booking Count', ascending = False)\n",
        "\n",
        "# Extracting top 5 agents by booking count\n",
        "top_5 = agents[:5]\n",
        "\n",
        "# Explosion\n",
        "explode = (0.02,0.02,0.02,0.02,0.02)\n",
        "\n",
        "# Colors\n",
        "colors = ( \"orange\", \"cyan\", \"brown\", \"indigo\", \"beige\")\n",
        "\n",
        "# Wedge properties\n",
        "wp = { 'linewidth' : 1, 'edgecolor' : \"green\" }\n",
        "\n",
        "# Creating autocpt arguments\n",
        "def func(pct, allvalues):\n",
        "    absolute = int(pct / 100.*np.sum(allvalues))\n",
        "    return \"{:.1f}%\\n({:d} g)\".format(pct, absolute)\n",
        "\n",
        "# Plotting the values\n",
        "fig, ax = plt.subplots(figsize =(15, 7))\n",
        "wedges, texts, autotexts = ax.pie(top_5['Booking Count'],\n",
        "                                  autopct = lambda pct: func(pct, top_5['Booking Count']),\n",
        "                                  explode = explode,\n",
        "                                  shadow = False,\n",
        "                                  colors = colors,\n",
        "                                  startangle = 50,\n",
        "                                  wedgeprops = wp)\n",
        "\n",
        "# Adding legend\n",
        "ax.legend(wedges, top_5['agent'],\n",
        "          title =\"agents\",\n",
        "          loc =\"upper left\",\n",
        "          bbox_to_anchor =(1, 0, 0.5, 1))\n",
        "\n",
        "plt.setp(autotexts, size = 8, weight =\"bold\")\n",
        "ax.set_title(\"Top 5 agents in terms of booking\", fontsize = 17)\n",
        "\n",
        "# Show chart\n",
        "plt.axis('equal')\n",
        "plt.show()"
      ]
    },
    {
      "cell_type": "markdown",
      "metadata": {
        "id": "1M8mcRywphqQ"
      },
      "source": [
        "##### 1. Why did you pick the specific chart?"
      ]
    },
    {
      "cell_type": "markdown",
      "metadata": {
        "id": "8agQvks0phqQ"
      },
      "source": [
        "A pie chart helps organize and show data as a percentage of a whole"
      ]
    },
    {
      "cell_type": "markdown",
      "metadata": {
        "id": "tgIPom80phqQ"
      },
      "source": [
        "##### 2. What is/are the insight(s) found from the chart?"
      ]
    },
    {
      "cell_type": "markdown",
      "metadata": {
        "id": "Qp13pnNzphqQ"
      },
      "source": [
        "We can see that agent number 9 has made the most number of bookings followed by agent number 240, 0, 14 and 7.\n"
      ]
    },
    {
      "cell_type": "markdown",
      "metadata": {
        "id": "JMzcOPDDphqR"
      },
      "source": [
        "##### 3. Will the gained insights help creating a positive business impact?\n",
        "Are there any insights that lead to negative growth? Justify with specific reason."
      ]
    },
    {
      "cell_type": "markdown",
      "metadata": {
        "id": "R4Ka1PC2phqR"
      },
      "source": [
        "Hotel can offer them bonus for their incredible work and to motivate them. This will help to increase the revenue."
      ]
    },
    {
      "cell_type": "markdown",
      "metadata": {
        "id": "x-EpHcCOp1ci"
      },
      "source": [
        "#### Chart - 11\n",
        "# ***What is the percentage of repeated guests?***"
      ]
    },
    {
      "cell_type": "code",
      "execution_count": null,
      "metadata": {
        "id": "mAQTIvtqp1cj"
      },
      "outputs": [],
      "source": [
        "# Chart - 11 visualization code\n",
        "# Creating a variable containing guests with their repeated counts\n",
        "rep_guests = hb_df1['is_repeated_guest'].value_counts()\n",
        "\n",
        "# Plotting the values in a pie chart\n",
        "rep_guests.plot.pie(autopct='%1.2f%%', explode=(0.00,0.09), figsize=(15,6), shadow=False)\n",
        "\n",
        "# Setting the title\n",
        "plt.title('Percentage of Repeated Guests', fontsize=20)\n",
        "\n",
        "# Setting the chart in centre\n",
        "plt.axis('equal')\n",
        "\n",
        "# Show the chart\n",
        "plt.show()"
      ]
    },
    {
      "cell_type": "markdown",
      "metadata": {
        "id": "X_VqEhTip1ck"
      },
      "source": [
        "##### 1. Why did you pick the specific chart?"
      ]
    },
    {
      "cell_type": "markdown",
      "metadata": {
        "id": "-vsMzt_np1ck"
      },
      "source": [
        "A pie chart helps organize and show data as a percentage of a whole"
      ]
    },
    {
      "cell_type": "markdown",
      "metadata": {
        "id": "8zGJKyg5p1ck"
      },
      "source": [
        "##### 2. What is/are the insight(s) found from the chart?"
      ]
    },
    {
      "cell_type": "markdown",
      "metadata": {
        "id": "ZYdMsrqVp1ck"
      },
      "source": [
        "From the above insight we can see that 3.86% guests are repeated guests."
      ]
    },
    {
      "cell_type": "markdown",
      "metadata": {
        "id": "PVzmfK_Ep1ck"
      },
      "source": [
        "##### 3. Will the gained insights help creating a positive business impact?\n",
        "Are there any insights that lead to negative growth? Justify with specific reason."
      ]
    },
    {
      "cell_type": "markdown",
      "metadata": {
        "id": "druuKYZpp1ck"
      },
      "source": [
        "We can see that number of repeated guests is very low and it shows negative growth of the hotel. Hotel can offer loyality discount to their guests to increase repeated guests."
      ]
    },
    {
      "cell_type": "markdown",
      "metadata": {
        "id": "n3dbpmDWp1ck"
      },
      "source": [
        "#### Chart - 12\n",
        "# ***Which customer type has the most booking?***"
      ]
    },
    {
      "cell_type": "code",
      "execution_count": null,
      "metadata": {
        "id": "bwevp1tKp1ck"
      },
      "outputs": [],
      "source": [
        "# Chart - 12 visualization code\n",
        "cust_type = hb_df1['customer_type'].value_counts()\n",
        "\n",
        "# Plotting the values in a line chart\n",
        "cust_type.plot(figsize=(15,5))\n",
        "\n",
        "# Setting the x label , y label and title\n",
        "plt.xlabel('Count', fontsize=8)\n",
        "plt.ylabel('Customer Type', fontsize=10)\n",
        "plt.title('Customer Type and their booking count', fontsize=20)\n",
        "\n",
        "# Show the chart\n",
        "plt.show()"
      ]
    },
    {
      "cell_type": "markdown",
      "metadata": {
        "id": "ylSl6qgtp1ck"
      },
      "source": [
        "##### 1. Why did you pick the specific chart?"
      ]
    },
    {
      "cell_type": "markdown",
      "metadata": {
        "id": "m2xqNkiQp1ck"
      },
      "source": [
        "Line graphs are used to track changes over different categories."
      ]
    },
    {
      "cell_type": "markdown",
      "metadata": {
        "id": "ZWILFDl5p1ck"
      },
      "source": [
        "##### 2. What is/are the insight(s) found from the chart?"
      ]
    },
    {
      "cell_type": "markdown",
      "metadata": {
        "id": "x-lUsV2mp1ck"
      },
      "source": [
        "We can see that Transient customer type has most number of bookings."
      ]
    },
    {
      "cell_type": "markdown",
      "metadata": {
        "id": "M7G43BXep1ck"
      },
      "source": [
        "##### 3. Will the gained insights help creating a positive business impact?\n",
        "Are there any insights that lead to negative growth? Justify with specific reason."
      ]
    },
    {
      "cell_type": "markdown",
      "metadata": {
        "id": "5wwDJXsLp1cl"
      },
      "source": [
        "Hotel can run promotional offers to increase the number of bookings over other categories. such as hotel could offer discounts for groups."
      ]
    },
    {
      "cell_type": "markdown",
      "metadata": {
        "id": "Ag9LCva-p1cl"
      },
      "source": [
        "#### Chart - 13\n",
        "# ***Which Market Segment has the most booking?***"
      ]
    },
    {
      "cell_type": "code",
      "execution_count": null,
      "metadata": {
        "id": "EUfxeq9-p1cl"
      },
      "outputs": [],
      "source": [
        "# Chart - 13 visualization code\n",
        "plt.figure(figsize=(15,5))\n",
        "sns.countplot(x=hb_df1['market_segment'], order = hb_df1['market_segment'].value_counts().index)\n",
        "plt.title('Market segment sahre in booking', fontsize=20)\n",
        "plt.show()"
      ]
    },
    {
      "cell_type": "markdown",
      "metadata": {
        "id": "E6MkPsBcp1cl"
      },
      "source": [
        "##### 1. Why did you pick the specific chart?"
      ]
    },
    {
      "cell_type": "markdown",
      "metadata": {
        "id": "V22bRsFWp1cl"
      },
      "source": [
        "A bar plot shows catergorical data as rectangular bars with the height of bars proportional to the value they represent."
      ]
    },
    {
      "cell_type": "markdown",
      "metadata": {
        "id": "2cELzS2fp1cl"
      },
      "source": [
        "##### 2. What is/are the insight(s) found from the chart?"
      ]
    },
    {
      "cell_type": "markdown",
      "metadata": {
        "id": "ozQPc2_Ip1cl"
      },
      "source": [
        "Above insight shows that Online TA (Travel Agent) has the most bookings."
      ]
    },
    {
      "cell_type": "markdown",
      "metadata": {
        "id": "3MPXvC8up1cl"
      },
      "source": [
        "##### 3. Will the gained insights help creating a positive business impact?\n",
        "Are there any insights that lead to negative growth? Justify with specific reason."
      ]
    },
    {
      "cell_type": "markdown",
      "metadata": {
        "id": "GL8l1tdLp1cl"
      },
      "source": [
        "There is no negative growth.\n",
        "Hotel should come up with some great idea to increase sahre among other market segments to increase the revenue."
      ]
    },
    {
      "cell_type": "markdown",
      "metadata": {
        "id": "F9iJq-Hh7GhJ"
      },
      "source": [
        "Chart -14\n",
        "# ***Which deposite type is most preffered?***"
      ]
    },
    {
      "cell_type": "code",
      "execution_count": null,
      "metadata": {
        "id": "D7qOMJdrBdy3"
      },
      "outputs": [],
      "source": [
        "# Visualization Code\n",
        "# Counting each deposte type\n",
        "deposite = hb_df1['deposit_type'].value_counts().index\n",
        "\n",
        "# Setting the chart size\n",
        "plt.figure(figsize=(8,4))\n",
        "\n",
        "# plotting the values\n",
        "sns.countplot(x=hb_df1['deposit_type'], order= deposite)\n",
        "plt.title('Most used deposite type')\n",
        "plt.show()"
      ]
    },
    {
      "cell_type": "markdown",
      "metadata": {
        "id": "6TwRFuStElGL"
      },
      "source": [
        "# **Bivariate and Multivariate Analysis**"
      ]
    },
    {
      "cell_type": "markdown",
      "metadata": {
        "id": "6ZgqfCnAzPSO"
      },
      "source": [
        "Chart - 15\n",
        "# ***How long people stay in the hotel?***"
      ]
    },
    {
      "cell_type": "code",
      "execution_count": null,
      "metadata": {
        "id": "7riazSyx2gHN"
      },
      "outputs": [],
      "source": [
        "# Chart - 11 visualization code\n",
        "# Creating a not cancelled dataframe\n",
        "not_cancelled_df = hb_df1[hb_df1['is_canceled'] == 0]\n",
        "# Creating a hotel stay dataframe\n",
        "hotel_stay = not_cancelled_df[not_cancelled_df['total_stay'] <= 15]  #Visualizing pattern till 15days stay\n",
        "\n",
        "\n",
        "# Setting plot size and plotting barchart\n",
        "plt.figure(figsize = (15,5))\n",
        "sns.countplot(x = hotel_stay['total_stay'], hue = hotel_stay['hotel'])\n",
        "\n",
        "# Adding the label of the chart\n",
        "plt.title('Total number of stays in each hotel',fontsize = 20)\n",
        "plt.xlabel('Total stay')\n",
        "plt.ylabel(\"Count of days\")\n",
        "plt.show()"
      ]
    },
    {
      "cell_type": "markdown",
      "metadata": {
        "id": "5OQjHlHw9-1r"
      },
      "source": [
        "From the above chart we can see that in City hotel most people stay for 3 days and in Resort hotel most people stay for only 1 day.\n",
        "\n",
        "Hotel should work on to increase total stay in Resort hotel to increase revenue."
      ]
    },
    {
      "cell_type": "markdown",
      "metadata": {
        "id": "s4UQMjc46ygq"
      },
      "source": [
        "Chart-16\n",
        "# ***Which hotel makes most revenue?***"
      ]
    },
    {
      "cell_type": "code",
      "execution_count": null,
      "metadata": {
        "id": "mLASZslL6yCr"
      },
      "outputs": [],
      "source": [
        "# Counting the revnue for each hotel type using groupby function\n",
        "most_rev = hb_df1.groupby('hotel')['adr'].count()\n",
        "\n",
        "# Plotting the values in a pie chart\n",
        "most_rev.plot.pie(autopct='%1.2f%%', figsize=(15,5))\n",
        "\n",
        "# Setting the title\n",
        "plt.title('Percentage of daily revenue by each hotel type', fontsize=20)\n",
        "plt.axis('equal')\n",
        "\n",
        "# Show the chart\n",
        "plt.show()"
      ]
    },
    {
      "cell_type": "markdown",
      "metadata": {
        "id": "3yDHTGYZ-k1r"
      },
      "source": [
        "From the above insight it is clear that City hotel has more share in revenue generation over Resort Hotel.\n",
        "\n",
        "Stake holderscould improve the service of Resort hotel so that people stay more in resort hotel and increase the revenue."
      ]
    },
    {
      "cell_type": "markdown",
      "metadata": {
        "id": "gBqu0LadVaUs"
      },
      "source": [
        "Chart - 17\n",
        "# *Which hotel has the longer waiting time?*"
      ]
    },
    {
      "cell_type": "code",
      "execution_count": null,
      "metadata": {
        "id": "3wr1QFYqVyyf"
      },
      "outputs": [],
      "source": [
        "# Grouping by hotel and taking the mean of days in waiting list\n",
        "waiting_time_df = hb_df1.groupby('hotel')['days_in_waiting_list'].mean().reset_index()\n",
        "# Waiting_time_df\n",
        "\n",
        "# Setting the plot size\n",
        "plt.figure(figsize=(8,4))\n",
        "\n",
        "# Plotting the barchart\n",
        "sns.barplot(x=waiting_time_df['hotel'],y=waiting_time_df['days_in_waiting_list'])\n",
        "\n",
        "# Setting the labels\n",
        "plt.xlabel('Hotel type',fontsize=12)\n",
        "plt.ylabel('waiting time',fontsize=12)\n",
        "plt.title(\"Waiting time for each hotel type\",fontsize=20)\n",
        "\n",
        "# Show chart\n",
        "plt.show()"
      ]
    },
    {
      "cell_type": "markdown",
      "metadata": {
        "id": "fnvUOwKC-90p"
      },
      "source": [
        "Above chart shows that City hotel has more waiting period. This could be because people stay more in City hotel as we saw in previous insight.\n",
        "\n",
        "Stakeholders should increase rooms in City hotel or convert some of rooms of Resort hotel into City Hotel to decrease the waiting time."
      ]
    },
    {
      "cell_type": "markdown",
      "metadata": {
        "id": "4CWk-cm7WRLo"
      },
      "source": [
        "Chart - 18\n",
        "# ***Hotel with most repeated guests.***"
      ]
    },
    {
      "cell_type": "code",
      "execution_count": null,
      "metadata": {
        "id": "HIlbkRhAWsV3"
      },
      "outputs": [],
      "source": [
        "# Grouping hotel types on repeated guests\n",
        "rep_guest = hb_df1[hb_df1['is_repeated_guest']==1].groupby('hotel').size().reset_index()\n",
        "\n",
        "# Renaming the column\n",
        "rep_guest = rep_guest.rename(columns={0:'number_of_repated_guests'})\n",
        "\n",
        "# Setting the chart size\n",
        "plt.figure(figsize=(8,4))\n",
        "\n",
        "# Plotting the values in a bar chart\n",
        "sns.barplot(x=rep_guest['hotel'],y=rep_guest['number_of_repated_guests'])\n",
        "\n",
        "# Setting the labels and title\n",
        "plt.xlabel('Hotel type', fontsize=12)\n",
        "plt.ylabel('count of repeated guests', fontsize=12)\n",
        "plt.title('Most repeated guests for each hotel', fontsize=20)\n",
        "\n",
        "# Show Chart\n",
        "plt.show()"
      ]
    },
    {
      "cell_type": "markdown",
      "metadata": {
        "id": "bK4Rckus_jZn"
      },
      "source": [
        "We can see that Resort Hotel has slightly more repeated guests over City Hotel this could be because of less waiting time in Resort Hotel and better service there because of less rush."
      ]
    },
    {
      "cell_type": "markdown",
      "metadata": {
        "id": "PolnDS5rYBYH"
      },
      "source": [
        "Chart - 19\n",
        "# ***What is the adr across different months?***"
      ]
    },
    {
      "cell_type": "code",
      "execution_count": null,
      "metadata": {
        "id": "eLc8Sw9xYOT5"
      },
      "outputs": [],
      "source": [
        "# Grouping arrival_month and hotel on mean of adr\n",
        "bookings_months=hb_df1.groupby(['arrival_date_month','hotel'])['adr'].mean().reset_index()\n",
        "\n",
        "# Creating a month list to order the months in ascending\n",
        "months = ['January', 'February', 'March', 'April', 'May', 'June', 'July', 'August', 'September', 'October', 'November', 'December']\n",
        "\n",
        "# Creating a dataset of months, hotel and their adr\n",
        "bookings_months['arrival_date_month']=pd.Categorical(bookings_months['arrival_date_month'],categories=months,ordered=True)\n",
        "\n",
        "# Sorting the months\n",
        "bookings_months=bookings_months.sort_values('arrival_date_month')\n",
        "bookings_months"
      ]
    },
    {
      "cell_type": "code",
      "execution_count": null,
      "metadata": {
        "id": "UKPh_gSVZogR"
      },
      "outputs": [],
      "source": [
        "# Setting the chart size\n",
        "plt.figure(figsize=(15,5))\n",
        "\n",
        "# Plotting the values in a line chart\n",
        "sns.lineplot(x=bookings_months['arrival_date_month'],y=bookings_months['adr'],hue=bookings_months['hotel'])\n",
        "\n",
        "# Setting the labels and title\n",
        "plt.title('ADR across each month', fontsize=20)\n",
        "plt.xlabel('Month Name', fontsize=12)\n",
        "plt.ylabel('ADR', fontsize=12)\n",
        "\n",
        "# Show chart\n",
        "plt.show()"
      ]
    },
    {
      "cell_type": "markdown",
      "metadata": {
        "id": "TybqUeeE_4_l"
      },
      "source": [
        "**City Hotel :** It is clear that City Hotel generates more revenue in May months in comparison to other months.\n",
        "\n",
        "**Resort Hotel :** Resort Hotel generates more revenue in between July and August months.\n",
        "\n",
        "Stakeholders could prepare in advance for these 2 months as these 2 months generate more revenue."
      ]
    },
    {
      "cell_type": "markdown",
      "metadata": {
        "id": "HUaRqX2HfUYa"
      },
      "source": [
        "Chart - 20\n",
        "# ***Which distribution channel has highest adr?***"
      ]
    },
    {
      "cell_type": "code",
      "execution_count": null,
      "metadata": {
        "id": "ArJUtHKpfl8U"
      },
      "outputs": [],
      "source": [
        "# Grouping dist_channel and hotels on their adr\n",
        "dist_channel_adr = hb_df1.groupby(['distribution_channel','hotel'])['adr'].mean().reset_index()\n",
        "\n",
        "# Setting the figure size\n",
        "plt.figure(figsize=(15,5))\n",
        "\n",
        "# Creating a horizontal bar chart\n",
        "sns.barplot(x='adr', y='distribution_channel', data=dist_channel_adr, hue='hotel')\n",
        "\n",
        "# Setting the title\n",
        "plt.title('ADR across each distribution channel', fontsize=20)\n",
        "\n",
        "# Show chart\n",
        "plt.show()"
      ]
    },
    {
      "cell_type": "markdown",
      "metadata": {
        "id": "2g1u8pw6BLOa"
      },
      "source": [
        "GDS has contributed more in generating the ADR. GDS is a worldwide conduit between travel bookers and suppliers, such as hotels and other accommodation providers. It communicates live product, price and availability data to travel agents and online booking engines, and allows for automated transactions.\n",
        "\n",
        "Direct- means that bookings are directly made with the respective hotels\n",
        "\n",
        "TA/TO- means that booings are made through travel agents or travel operators.\n",
        "\n",
        "Undefined- Bookings are undefined. may be customers made their bookings on arrival."
      ]
    },
    {
      "cell_type": "markdown",
      "metadata": {
        "id": "NC_X3p0fY2L0"
      },
      "source": [
        "#### Chart - 21 - Correlation Heatmap"
      ]
    },
    {
      "cell_type": "code",
      "execution_count": null,
      "metadata": {
        "id": "xyC9zolEZNRQ"
      },
      "outputs": [],
      "source": [
        "# Correlation Heatmap visualization code\n",
        "# Setting the chart size\n",
        "plt.figure(figsize=(15,10))\n",
        "\n",
        "# Creating heatmap to see correlation of each columns\n",
        "sns.heatmap(hb_df1.corr(numeric_only=True),annot=True)          # Setting the numeric only colun to True to avoid warning\n",
        "\n",
        "# Setting the title\n",
        "plt.title('Correlation of the columns', fontsize=20)\n",
        "\n",
        "# Show heatmap\n",
        "plt.show()"
      ]
    },
    {
      "cell_type": "markdown",
      "metadata": {
        "id": "UV0SzAkaZNRQ"
      },
      "source": [
        "##### 1. Why did you pick the specific chart?"
      ]
    },
    {
      "cell_type": "markdown",
      "metadata": {
        "id": "DVPuT8LYZNRQ"
      },
      "source": [
        "Correlation heatmaps was used to find potential relationships between variables and to understand the strength of these relationships.\n"
      ]
    },
    {
      "cell_type": "markdown",
      "metadata": {
        "id": "YPEH6qLeZNRQ"
      },
      "source": [
        "##### 2. What is/are the insight(s) found from the chart?"
      ]
    },
    {
      "cell_type": "markdown",
      "metadata": {
        "id": "bfSqtnDqZNRR"
      },
      "source": [
        "\n",
        "1) lead_time and total_stay is positively corelated. that means if customers stay more then the lead time increases.\n",
        "\n",
        "2)adults,childrens and babies are corelated to each other. That means more the people more will be adr.\n",
        "\n",
        "3) is_repeated guest and previous bookings not canceled has strong corelation. That means repeated guests don't cancel their bookings.**"
      ]
    },
    {
      "cell_type": "markdown",
      "metadata": {
        "id": "q29F0dvdveiT"
      },
      "source": [
        "#### Chart - 22 - Pair Plot"
      ]
    },
    {
      "cell_type": "code",
      "execution_count": null,
      "metadata": {
        "colab": {
          "background_save": true
        },
        "id": "IHXsh9vmgPMe"
      },
      "outputs": [],
      "source": [
        "import seaborn as sns\n",
        "import matplotlib.pyplot as plt\n",
        "\n",
        "# Create a pair plot\n",
        "g = sns.PairGrid(hb_df1)\n",
        "\n",
        "# Map the plot elements\n",
        "g.map_upper(plt.scatter, color=\"blue\")\n",
        "g.map_lower(sns.kdeplot, cmap=\"Blues\")\n",
        "g.map_diag(plt.hist, bins=20, edgecolor=\"black\")\n",
        "\n",
        "# Show the plot\n",
        "plt.show()"
      ]
    },
    {
      "cell_type": "code",
      "execution_count": null,
      "metadata": {
        "colab": {
          "background_save": true
        },
        "id": "cx2tWQPCq7hp"
      },
      "outputs": [],
      "source": [
        "# Pair Plot visualization code\n",
        "sns.pairplot(hb_df1)\n",
        "plt.show()"
      ]
    },
    {
      "cell_type": "markdown",
      "metadata": {
        "id": "EXh0U9oCveiU"
      },
      "source": [
        "##### 1. Why did you pick the specific chart?"
      ]
    },
    {
      "cell_type": "markdown",
      "metadata": {
        "id": "eMmPjTByveiU"
      },
      "source": [
        "A pairs plot allows us to see both distribution of single variables and relationships between two variables .\n",
        "\n",
        "We can see the realtionship between all the columns with each other in above chart.\n",
        "\n",
        "1. From the above pair plot we can see that if cancellation increases then total stay also decreases.\n",
        "2. As the total number of people increases adr also increases.\n",
        "Thus adr and total people are directly proportional to each other."
      ]
    },
    {
      "cell_type": "markdown",
      "metadata": {
        "id": "JcMwzZxoAimU"
      },
      "source": [
        "## **5. Solution to Business Objective**"
      ]
    },
    {
      "cell_type": "markdown",
      "metadata": {
        "id": "8G2x9gOozGDZ"
      },
      "source": [
        "#### What do you suggest the client to achieve Business Objective ?\n",
        "Explain Briefly."
      ]
    },
    {
      "cell_type": "markdown",
      "metadata": {
        "id": "pASKb0qOza21"
      },
      "source": [
        "1. Resort Hotel is most preffered so Stakeholders can offer discounts on City Hotel to increase bookings.\n",
        "2. Around 27.52% of bookings are cancelled so Hotel can offer layality discount if guests don't cnacel their booking.\n",
        "3.Hotel can maintain raw materials for BB type meal in advance to avoid delay as BB(Bead and Breakfast) is the most preffered meal.\n",
        "4. Hotel should increase number of rooms in City Hotels to decrease the waiting time.\n",
        "5. TA has the most number of bookings over other MArket segments so Hotel could run some offer to get more bookings from otehr segment.\n",
        "6. Room type A is most preffered by guests so Hotel should increase the number of A type room.\n",
        "7. Number of repeated guests is low that indicates that there is something they don't like about Hotel and that needs to be fixed to increase number of repeated guests.\n",
        "8.Waiting time period for City hotel is high as compared to resort hotels. That means city hotels are much busier than Resort hotels.\n",
        "9. Optimal stay in both the type hotel is less than 7 days. Usually people stay for a week so Hotel need to take some actions to improve their performance.\n",
        "10. Maximum number of guests were from Portugal."
      ]
    },
    {
      "cell_type": "markdown",
      "metadata": {
        "id": "gCX9965dhzqZ"
      },
      "source": [
        "# **Conclusion**"
      ]
    },
    {
      "cell_type": "markdown",
      "metadata": {
        "id": "Fjb1IsQkh3yE"
      },
      "source": [
        "Inorder to achieve the business objective, i would suggest the client to make the price dynamic, introduce offers and packages to attract new customers. To retain the existing customers and ensure their repetition the client must introduce loyalty points program which can be redeemed by the customers in their next bookings. Amenities such as parking spaces, kids corner, free internet connection can be provided to increase the number of bookings."
      ]
    }
  ],
  "metadata": {
    "colab": {
      "collapsed_sections": [
        "85gYPyotYoAp",
        "RoGjAbkUYoAp",
        "iky9q4vBYrdO",
        "F6T5p64dYrdO",
        "y-Ehk30pYrdP",
        "QHF8YVU7Yuh3",
        "GwzvFGzlYuh3",
        "qYpmQ266Yuh3",
        "bbFf2-_FphqN",
        "_ouA3fa0phqN",
        "Seke61FWphqN",
        "t27r6nlMphqO",
        "r2jJGEOYphqO",
        "b0JNsNcRphqO",
        "rFu4xreNphqO",
        "gCFgpxoyphqP",
        "OVtJsKN_phqQ",
        "1M8mcRywphqQ",
        "tgIPom80phqQ",
        "JMzcOPDDphqR",
        "X_VqEhTip1ck",
        "8zGJKyg5p1ck",
        "ylSl6qgtp1ck",
        "ZWILFDl5p1ck",
        "M7G43BXep1ck",
        "E6MkPsBcp1cl",
        "2cELzS2fp1cl",
        "gIfDvo9L0UH2"
      ],
      "provenance": [],
      "include_colab_link": true
    },
    "gpuClass": "standard",
    "kernelspec": {
      "display_name": "Python 3",
      "name": "python3"
    },
    "language_info": {
      "name": "python"
    }
  },
  "nbformat": 4,
  "nbformat_minor": 0
}